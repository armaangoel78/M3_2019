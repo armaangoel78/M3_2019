{
 "cells": [
  {
   "cell_type": "code",
   "execution_count": 29,
   "metadata": {},
   "outputs": [],
   "source": [
    "import pandas as pd\n",
    "import numpy as np\n",
    "import scipy\n",
    "import operator as op\n",
    "from functools import reduce\n",
    "import random"
   ]
  },
  {
   "cell_type": "code",
   "execution_count": 30,
   "metadata": {},
   "outputs": [],
   "source": [
    "# v = probability of vaping indep of peer pressure\n",
    "# sf = number of smoking friends\n",
    "# sf_data = list of probilibities of having sf number of friends who smoke\n",
    "# n = number of friends\n",
    "# ii = income indexThe "
   ]
  },
  {
   "cell_type": "code",
   "execution_count": 43,
   "metadata": {},
   "outputs": [
    {
     "name": "stdout",
     "output_type": "stream",
     "text": [
      "0.09835\n"
     ]
    }
   ],
   "source": [
    "XfriendsSmoke = [.138,.131,.19,.195,.12,.225,0,0,0,0,0,0,0,0,0]\n",
    "XfriendsTotal = [.02,.06,.08,.11,.11,.17,.06,.06,.06,.27]\n",
    "GlobalProbOfVaping = .134092\n",
    "\n",
    "def ncr(n, r):\n",
    "    r = min(r, n-r)\n",
    "    numer = reduce(op.mul, range(n, n-r, -1), 1)\n",
    "    denom = reduce(op.mul, range(1, r+1), 1)\n",
    "    return numer / denom\n",
    "def PP(sf, n, ii):\n",
    "    return (GlobalProbOfVaping * XfriendsSmoke[sf]) / (ncr(n, sf) * pow(GlobalProbOfVaping, sf) * pow(1-GlobalProbOfVaping, n - sf))\n",
    "\n",
    "PplPerGeneration = 5000\n",
    "\n",
    "iterations = 1\n",
    "populationFriends = [[] for n in range(PplPerGeneration)]\n",
    "populationVaping = [random.random()<GlobalProbOfVaping for n in range(PplPerGeneration)]\n",
    "\n",
    "\n",
    "def iteration():\n",
    "    global iterations\n",
    "    for person in range(PplPerGeneration):\n",
    "        fof = random.random()\n",
    "        for xh in range(len(XfriendsTotal)):\n",
    "            fof -= XfriendsTotal[xh]\n",
    "            if fof < 0:\n",
    "                friends = xh\n",
    "        vapingfriends = 0\n",
    "        for friendnum in range(friends):\n",
    "            friend = random.randint(0,PplPerGeneration*iterations)\n",
    "            if populationVaping[friend]:\n",
    "                vapingfriends = vapingfriends + 1\n",
    "        populationVaping.append(random.random()<PP(vapingfriends,friends,0))\n",
    "    iterations += 1\n",
    "\n",
    "iteration()\n",
    "iteration()\n",
    "iteration()\n",
    "iteration()\n",
    "iteration()\n",
    "iteration()\n",
    "iteration()\n",
    "iteration()\n",
    "iteration()\n",
    "iteration()\n",
    "iteration()\n",
    "    \n",
    "filthyVapers = 0\n",
    "for guy in populationVaping:\n",
    "    if guy: filthyVapers += 1\n",
    "\n",
    "print((filthyVapers+0.0)/(iterations*PplPerGeneration))\n",
    "\n"
   ]
  },
  {
   "cell_type": "code",
   "execution_count": null,
   "metadata": {},
   "outputs": [],
   "source": []
  },
  {
   "cell_type": "code",
   "execution_count": 25,
   "metadata": {},
   "outputs": [
    {
     "ename": "NameError",
     "evalue": "name 'df' is not defined",
     "output_type": "error",
     "traceback": [
      "\u001b[0;31m---------------------------------------------------------------------------\u001b[0m",
      "\u001b[0;31mNameError\u001b[0m                                 Traceback (most recent call last)",
      "\u001b[0;32m<ipython-input-25-3eff9e8e2352>\u001b[0m in \u001b[0;36m<module>\u001b[0;34m\u001b[0m\n\u001b[0;32m----> 1\u001b[0;31m \u001b[0mdf\u001b[0m \u001b[0;34m=\u001b[0m \u001b[0mdf\u001b[0m\u001b[0;34m[\u001b[0m\u001b[0;34m:\u001b[0m\u001b[0;36m11\u001b[0m\u001b[0;34m]\u001b[0m\u001b[0;34m\u001b[0m\u001b[0m\n\u001b[0m",
      "\u001b[0;31mNameError\u001b[0m: name 'df' is not defined"
     ]
    }
   ],
   "source": [
    "df = df[:11]"
   ]
  },
  {
   "cell_type": "code",
   "execution_count": null,
   "metadata": {},
   "outputs": [],
   "source": []
  }
 ],
 "metadata": {
  "kernelspec": {
   "display_name": "Python 3",
   "language": "python",
   "name": "python3"
  },
  "language_info": {
   "codemirror_mode": {
    "name": "ipython",
    "version": 3
   },
   "file_extension": ".py",
   "mimetype": "text/x-python",
   "name": "python",
   "nbconvert_exporter": "python",
   "pygments_lexer": "ipython3",
   "version": "3.7.0"
  }
 },
 "nbformat": 4,
 "nbformat_minor": 2
}
