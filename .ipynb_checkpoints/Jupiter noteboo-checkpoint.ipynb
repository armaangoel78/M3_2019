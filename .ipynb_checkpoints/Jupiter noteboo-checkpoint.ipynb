{
 "cells": [
  {
   "cell_type": "code",
   "execution_count": 248,
   "metadata": {},
   "outputs": [],
   "source": [
    "import pandas as pd\n",
    "import numpy as np\n",
    "import scipy\n",
    "import operator as op\n",
    "from functools import reduce\n",
    "import random\n",
    "import matplotlib.pyplot as plt"
   ]
  },
  {
   "cell_type": "code",
   "execution_count": 249,
   "metadata": {},
   "outputs": [],
   "source": [
    "# v = probability of vaping indep of peer pressure\n",
    "# sf = number of smoking friends\n",
    "# sf_data = list of probilibities of having sf number of friends who smoke\n",
    "# n = number of friends\n",
    "# ii = income indexThe "
   ]
  },
  {
   "cell_type": "code",
   "execution_count": 250,
   "metadata": {},
   "outputs": [],
   "source": [
    "XfriendsSmoke = [.138,.131,.19,.195,.12,.225,0,0,0,0,0,0,0,0,0]\n",
    "# XfriendsSmoke = [.338,.331,.39,.395,.32,.225,.225,.225,.225,.425,0,0,0,0,0]\n",
    "# XfriendsSmoke = [.02,.06,.08,.11,.11,.17,.06,.06,.06,.27]\n",
    "XfriendsTotal = [.02,.06,.08,.11,.11,.17,.06,.06,.06,.27]\n",
    "# XfriendsTotal = [.01,.07,.13,.11,.11,.23,.06,.06,.06,.27]\n",
    "# XfriendsTotal = [.04 ,.17,.15,.11,.11,.23,.06,.06,.06,.27]\n",
    "GlobalProbOfVaping = .134092\n",
    "# GlobalProbOfVaping = .26\n"
   ]
  },
  {
   "cell_type": "code",
   "execution_count": 251,
   "metadata": {},
   "outputs": [],
   "source": [
    "def ncr(n, r):\n",
    "    r = min(r, n-r)\n",
    "    numer = reduce(op.mul, range(n, n-r, -1), 1)\n",
    "    denom = reduce(op.mul, range(1, r+1), 1)\n",
    "    return numer / denom"
   ]
  },
  {
   "cell_type": "code",
   "execution_count": 252,
   "metadata": {},
   "outputs": [],
   "source": [
    "def PP(sf, n, ii):\n",
    "    sxied = XfriendsSmoke[sf]\n",
    "#     sxied = (ncr(n, sf) * pow(GlobalProbOfVaping, sf) * pow(1-GlobalProbOfVaping, n - sf))\n",
    "    return (GlobalProbOfVaping * sxied) / (ncr(n, sf) * pow(GlobalProbOfVaping, sf) * pow(1-GlobalProbOfVaping, n - sf))"
   ]
  },
  {
   "cell_type": "code",
   "execution_count": 253,
   "metadata": {},
   "outputs": [],
   "source": [
    "PplPerGeneration = 50000\n",
    "\n",
    "iterations = 1"
   ]
  },
  {
   "cell_type": "code",
   "execution_count": 254,
   "metadata": {},
   "outputs": [],
   "source": [
    "populationFriends = [[] for n in range(PplPerGeneration)]\n",
    "populationVaping = [random.random()<GlobalProbOfVaping for n in range(PplPerGeneration)]"
   ]
  },
  {
   "cell_type": "code",
   "execution_count": 255,
   "metadata": {},
   "outputs": [],
   "source": [
    "def iteration():\n",
    "    global iterations\n",
    "    for person in range(PplPerGeneration):\n",
    "        fof = random.random()\n",
    "        for xh in range(len(XfriendsTotal)):\n",
    "            fof -= XfriendsTotal[xh]\n",
    "            if fof < 0:\n",
    "                friends = xh\n",
    "        vapingfriends = 0\n",
    "        for friendnum in range(friends):\n",
    "            friend = random.randint(0,PplPerGeneration*iterations)\n",
    "            if populationVaping[friend]:\n",
    "                vapingfriends = vapingfriends + 1\n",
    "        populationVaping.append(random.random()<PP(vapingfriends,friends,0))\n",
    "    iterations += 1"
   ]
  },
  {
   "cell_type": "code",
   "execution_count": 256,
   "metadata": {},
   "outputs": [],
   "source": [
    "def prop_vaping(populationVaping, iterations, pplPerGen):\n",
    "        \n",
    "    filthyVapers = 0\n",
    "    for guy in range((iterations-1)*pplPerGen,iterations*pplPerGen):\n",
    "        if populationVaping[guy]: filthyVapers += 1\n",
    "\n",
    "    return float(filthyVapers)/(pplPerGen)"
   ]
  },
  {
   "cell_type": "code",
   "execution_count": 257,
   "metadata": {},
   "outputs": [],
   "source": [
    "prop_over_time = []\n",
    "\n",
    "prop_over_time.append(prop_vaping(populationVaping, iterations, PplPerGeneration))\n",
    "for x in range(10):\n",
    "    iteration()\n",
    "    prop_over_time.append(prop_vaping(populationVaping, iterations, PplPerGeneration))"
   ]
  },
  {
   "cell_type": "code",
   "execution_count": 258,
   "metadata": {
    "scrolled": true
   },
   "outputs": [
    {
     "data": {
      "text/plain": [
       "[<matplotlib.lines.Line2D at 0x119b276a0>]"
      ]
     },
     "execution_count": 258,
     "metadata": {},
     "output_type": "execute_result"
    },
    {
     "data": {
      "image/png": "[encoded data removed]",
      "text/plain": [
       "<Figure size 432x288 with 1 Axes>"
      ]
     },
     "metadata": {
      "needs_background": "light"
     },
     "output_type": "display_data"
    }
   ],
   "source": [
    "plt.plot(prop_over_time)"
   ]
  },
  {
   "cell_type": "code",
   "execution_count": null,
   "metadata": {},
   "outputs": [],
   "source": []
  }
 ],
 "metadata": {
  "kernelspec": {
   "display_name": "Python 3",
   "language": "python",
   "name": "python3"
  },
  "language_info": {
   "codemirror_mode": {
    "name": "ipython",
    "version": 3
   },
   "file_extension": ".py",
   "mimetype": "text/x-python",
   "name": "python",
   "nbconvert_exporter": "python",
   "pygments_lexer": "ipython3",
   "version": "3.7.0"
  }
 },
 "nbformat": 4,
 "nbformat_minor": 2
}
