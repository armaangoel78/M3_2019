{
 "cells": [
  {
   "cell_type": "code",
   "execution_count": 282,
   "metadata": {},
   "outputs": [],
   "source": [
    "import pandas as pd\n",
    "import numpy as np\n",
    "import scipy\n",
    "import operator as op\n",
    "from functools import reduce\n",
    "import random\n",
    "import matplotlib.pyplot as plt"
   ]
  },
  {
   "cell_type": "code",
   "execution_count": 283,
   "metadata": {},
   "outputs": [],
   "source": [
    "# v = probability of vaping indep of peer pressure\n",
    "# sf = number of smoking friends\n",
    "# sf_data = list of probilibities of having sf number of friends who smoke\n",
    "# n = number of friends\n",
    "# ii = income indexThe "
   ]
  },
  {
   "cell_type": "markdown",
   "metadata": {},
   "source": [
    "# Part 1"
   ]
  },
  {
   "cell_type": "code",
   "execution_count": 293,
   "metadata": {},
   "outputs": [],
   "source": [
    "XfriendsSmoke = [.138,.131,.19,.195,.12,.225,0,0,0,0,0,0,0,0,0]\n",
    "XfriendsTotal = [.02,.06,.08,.11,.11,.17,.045,.045,.045,.045,.27]\n",
    "GlobalProbOfVaping = .134092\n",
    "# GlobalProbOfVaping = .26\n"
   ]
  },
  {
   "cell_type": "code",
   "execution_count": 294,
   "metadata": {},
   "outputs": [],
   "source": [
    "def ncr(n, r):\n",
    "    r = min(r, n-r)\n",
    "    numer = reduce(op.mul, range(n, n-r, -1), 1)\n",
    "    denom = reduce(op.mul, range(1, r+1), 1)\n",
    "    return numer / denom"
   ]
  },
  {
   "cell_type": "code",
   "execution_count": 324,
   "metadata": {},
   "outputs": [],
   "source": [
    "def PP(prob, sf, nf):\n",
    "    sxied = XfriendsSmoke[sf]\n",
    "    return (prob * sxied) / (ncr(nf, sf) * pow(GlobalProbOfVaping, sf) * pow(1-GlobalProbOfVaping, nf - sf))"
   ]
  },
  {
   "cell_type": "code",
   "execution_count": 296,
   "metadata": {},
   "outputs": [],
   "source": [
    "PplPerGeneration = 50000\n",
    "\n",
    "iterations = 1"
   ]
  },
  {
   "cell_type": "code",
   "execution_count": 297,
   "metadata": {},
   "outputs": [],
   "source": [
    "populationFriends = [[] for n in range(PplPerGeneration)]\n",
    "populationVaping = [random.random()<GlobalProbOfVaping for n in range(PplPerGeneration)]"
   ]
  },
  {
   "cell_type": "code",
   "execution_count": 298,
   "metadata": {},
   "outputs": [],
   "source": [
    "def iteration():\n",
    "    global iterations\n",
    "    for person in range(PplPerGeneration):\n",
    "        fof = random.random()\n",
    "        for xh in range(len(XfriendsTotal)):\n",
    "            fof -= XfriendsTotal[xh]\n",
    "            if fof < 0:\n",
    "                friends = xh\n",
    "        vapingfriends = 0\n",
    "        for friendnum in range(friends):\n",
    "            friend = random.randint(0,PplPerGeneration*iterations)\n",
    "            if populationVaping[friend]:\n",
    "                vapingfriends = vapingfriends + 1\n",
    "        populationVaping.append(random.random()<PP(GlobalProbOfVaping,vapingfriends,friends))\n",
    "    iterations += 1"
   ]
  },
  {
   "cell_type": "code",
   "execution_count": 299,
   "metadata": {},
   "outputs": [],
   "source": [
    "def prop_vaping(populationVaping, iterations, pplPerGen):\n",
    "        \n",
    "    filthyVapers = 0\n",
    "    for guy in range((iterations-1)*pplPerGen,iterations*pplPerGen):\n",
    "        if populationVaping[guy]: filthyVapers += 1\n",
    "\n",
    "    return float(filthyVapers)/(pplPerGen)"
   ]
  },
  {
   "cell_type": "code",
   "execution_count": 300,
   "metadata": {},
   "outputs": [],
   "source": [
    "prop_over_time = []\n",
    "\n",
    "prop_over_time.append(prop_vaping(populationVaping, iterations, PplPerGeneration))\n",
    "for x in range(10):\n",
    "    iteration()\n",
    "    prop_over_time.append(prop_vaping(populationVaping, iterations, PplPerGeneration))"
   ]
  },
  {
   "cell_type": "code",
   "execution_count": 301,
   "metadata": {
    "collapsed": true
   },
   "outputs": [
    {
     "data": {
      "text/plain": [
       "[<matplotlib.lines.Line2D at 0x11a552be0>]"
      ]
     },
     "execution_count": 301,
     "metadata": {},
     "output_type": "execute_result"
    },
    {
     "data": {
      "image/png": "[encoded data removed]",
      "text/plain": [
       "<Figure size 432x288 with 1 Axes>"
      ]
     },
     "metadata": {
      "needs_background": "light"
     },
     "output_type": "display_data"
    }
   ],
   "source": [
    "plt.plot(prop_over_time)"
   ]
  },
  {
   "cell_type": "markdown",
   "metadata": {},
   "source": [
    "# Part 2"
   ]
  },
  {
   "cell_type": "code",
   "execution_count": 382,
   "metadata": {},
   "outputs": [],
   "source": [
    "alcohol = pd.read_csv('data/alcohol.csv')\n",
    "nicotine = pd.read_csv('data/nicotine.csv')\n",
    "weed = pd.read_csv('data/weed.csv')\n",
    "opiod = pd.read_csv('data/opiod.csv')"
   ]
  },
  {
   "cell_type": "code",
   "execution_count": 391,
   "metadata": {},
   "outputs": [],
   "source": [
    "def prob_dist(prob, nf, max_sf):\n",
    "    probs = []\n",
    "\n",
    "    for x in range(max_sf):\n",
    "        probs.append(PP(prob,x,nf))\n",
    "        \n",
    "    return probs"
   ]
  },
  {
   "cell_type": "code",
   "execution_count": 394,
   "metadata": {},
   "outputs": [],
   "source": [
    "def get_prob(drug,pov,age):\n",
    "    df = None\n",
    "    \n",
    "    drug = drug.lower()\n",
    "    if 'alc' in drug:\n",
    "        df = alcohol\n",
    "    elif 'nic' in drug:\n",
    "        df = nicotine\n",
    "    elif 'weed' in drug:\n",
    "        df = weed\n",
    "    elif 'op' in drug:\n",
    "        df = opiod\n",
    "        \n",
    "    \n",
    "    row = None\n",
    "    \n",
    "    if '<100' in pov:\n",
    "        row = df.iloc[0]\n",
    "    elif '100-199' in pov:\n",
    "        row = df.iloc[1]\n",
    "    elif '200' in pov:\n",
    "        row = df.iloc[2]\n",
    "        \n",
    "    return row[age]\n",
    "        "
   ]
  },
  {
   "cell_type": "code",
   "execution_count": 395,
   "metadata": {},
   "outputs": [],
   "source": [
    "def get_prob_dist(drug, pov, age, nf, max_sf):\n",
    "    return prob_dist(get_prob(drug,pov,age),nf,max_sf)"
   ]
  },
  {
   "cell_type": "code",
   "execution_count": 377,
   "metadata": {},
   "outputs": [],
   "source": [
    "probs = get_prob_dist('alc','<100%')"
   ]
  },
  {
   "cell_type": "code",
   "execution_count": 378,
   "metadata": {},
   "outputs": [
    {
     "data": {
      "text/plain": [
       "[<matplotlib.lines.Line2D at 0x11b617a90>]"
      ]
     },
     "execution_count": 378,
     "metadata": {},
     "output_type": "execute_result"
    },
    {
     "data": {
      "image/png": "[encoded data removed]",
      "text/plain": [
       "<Figure size 432x288 with 1 Axes>"
      ]
     },
     "metadata": {
      "needs_background": "light"
     },
     "output_type": "display_data"
    }
   ],
   "source": [
    "plt.plot(probs)"
   ]
  },
  {
   "cell_type": "code",
   "execution_count": null,
   "metadata": {},
   "outputs": [],
   "source": []
  }
 ],
 "metadata": {
  "kernelspec": {
   "display_name": "Python 3",
   "language": "python",
   "name": "python3"
  },
  "language_info": {
   "codemirror_mode": {
    "name": "ipython",
    "version": 3
   },
   "file_extension": ".py",
   "mimetype": "text/x-python",
   "name": "python",
   "nbconvert_exporter": "python",
   "pygments_lexer": "ipython3",
   "version": "3.7.0"
  }
 },
 "nbformat": 4,
 "nbformat_minor": 2
}
